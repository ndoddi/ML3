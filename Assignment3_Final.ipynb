{
 "cells": [
  {
   "cell_type": "markdown",
   "id": "a0f9d1b3",
   "metadata": {},
   "source": [
    "# Assignment 3: Protein Subcellular Localization (Spring 2025)\n",
    "\n",
    "This notebook performs analysis on two datasets containing protein sequences from gram-positive and gram-negative bacteria.\n",
    "The class labels are provided as **Fold values** (e.g., Fold1, Fold2, etc.).\n",
    "\n",
    "Each dataset is analyzed separately to answer the following questions:\n",
    "1. Number of proteins\n",
    "2. Number of labels (folds)\n",
    "3. Number of proteins in each class\n",
    "4. Average length of proteins in each class\n",
    "5. Maximum and minimum length of proteins in each class"
   ]
  },
  {
   "cell_type": "code",
   "execution_count": null,
   "id": "56eb21d8",
   "metadata": {},
   "outputs": [],
   "source": [
    "import pandas as pd"
   ]
  },
  {
   "cell_type": "code",
   "execution_count": null,
   "id": "50160a91",
   "metadata": {},
   "outputs": [],
   "source": [
    "# Load gram-negative data\n",
    "n_data = pd.read_csv('n-data.csv', header=None)\n",
    "n_data = n_data[[0, 2, 3]]  # Fold, Protein_ID, Sequence\n",
    "n_data.columns = ['Label', 'Protein_ID', 'Sequence']\n",
    "n_data['Length'] = n_data['Sequence'].apply(len)"
   ]
  },
  {
   "cell_type": "code",
   "execution_count": null,
   "id": "44e182c6",
   "metadata": {},
   "outputs": [],
   "source": [
    "# Load gram-positive data\n",
    "g_data = pd.read_csv('g_data.csv', header=None)\n",
    "g_data = g_data[[0, 2, 3]]  # Fold, Protein_ID, Sequence\n",
    "g_data.columns = ['Label', 'Protein_ID', 'Sequence']\n",
    "g_data['Length'] = g_data['Sequence'].apply(len)"
   ]
  },
  {
   "cell_type": "code",
   "execution_count": null,
   "id": "272443cf",
   "metadata": {},
   "outputs": [],
   "source": [
    "# Summary function\n",
    "def summarize(df, name):\n",
    "    print(f\"\\n--- {name} ---\")\n",
    "    print(f\"Number of proteins: {len(df)}\")\n",
    "    print(f\"Number of labels: {df['Label'].nunique()}\")\n",
    "    print(\"\\nProteins per class:\")\n",
    "    print(df['Label'].value_counts())\n",
    "    print(\"\\nAverage length per class:\")\n",
    "    print(df.groupby('Label')['Length'].mean())\n",
    "    print(\"\\nMax length per class:\")\n",
    "    print(df.groupby('Label')['Length'].max())\n",
    "    print(\"\\nMin length per class:\")\n",
    "    print(df.groupby('Label')['Length'].min())"
   ]
  },
  {
   "cell_type": "code",
   "execution_count": null,
   "id": "b3b4ff2d",
   "metadata": {},
   "outputs": [],
   "source": [
    "summarize(n_data, 'Gram-negative')\n",
    "summarize(g_data, 'Gram-positive')"
   ]
  }
 ],
 "metadata": {},
 "nbformat": 4,
 "nbformat_minor": 5
}