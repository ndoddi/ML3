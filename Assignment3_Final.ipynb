{
 "cells": [
  {
   "cell_type": "markdown",
   "id": "a0f9d1b3",
   "metadata": {},
   "source": [
    "# Assignment 3: Protein Subcellular Localization (Spring 2025)\n",
    "\n",
    "Nandini Doddi"
   ]
  },
  {
   "cell_type": "code",
   "execution_count": 8,
   "id": "56eb21d8",
   "metadata": {},
   "outputs": [],
   "source": [
    "import pandas as pd"
   ]
  },
  {
   "cell_type": "code",
   "execution_count": 9,
   "id": "50160a91",
   "metadata": {},
   "outputs": [],
   "source": [
    "# Load gram-negative data\n",
    "n_data = pd.read_csv('n-data.csv', header=None)\n",
    "n_data = n_data[[0, 2, 3]]  # Fold, Protein_ID, Sequence\n",
    "n_data.columns = ['Label', 'Protein_ID', 'Sequence']\n",
    "n_data['Length'] = n_data['Sequence'].apply(len)"
   ]
  },
  {
   "cell_type": "code",
   "execution_count": 10,
   "id": "44e182c6",
   "metadata": {},
   "outputs": [],
   "source": [
    "# Load gram-positive data\n",
    "g_data = pd.read_csv('g_data.csv', header=None)\n",
    "g_data = g_data[[0, 2, 3]]  # Fold, Protein_ID, Sequence\n",
    "g_data.columns = ['Label', 'Protein_ID', 'Sequence']\n",
    "g_data['Length'] = g_data['Sequence'].apply(len)"
   ]
  },
  {
   "cell_type": "code",
   "execution_count": 11,
   "id": "272443cf",
   "metadata": {},
   "outputs": [],
   "source": [
    "# Summary function\n",
    "def summarize(df, name):\n",
    "    print(f\"\\n--- {name} ---\")\n",
    "    print(f\"Number of proteins: {len(df)}\")\n",
    "    print(f\"Number of labels: {df['Label'].nunique()}\")\n",
    "    print(\"\\nProteins per class:\")\n",
    "    print(df['Label'].value_counts())\n",
    "    print(\"\\nAverage length per class:\")\n",
    "    print(df.groupby('Label')['Length'].mean())\n",
    "    print(\"\\nMax length per class:\")\n",
    "    print(df.groupby('Label')['Length'].max())\n",
    "    print(\"\\nMin length per class:\")\n",
    "    print(df.groupby('Label')['Length'].min())"
   ]
  },
  {
   "cell_type": "code",
   "execution_count": 12,
   "id": "b3b4ff2d",
   "metadata": {},
   "outputs": [
    {
     "name": "stdout",
     "output_type": "stream",
     "text": [
      "\n",
      "--- Gram-negative ---\n",
      "Number of proteins: 1456\n",
      "Number of labels: 8\n",
      "\n",
      "Proteins per class:\n",
      "Label\n",
      "1    557\n",
      "3    410\n",
      "8    180\n",
      "4    133\n",
      "2    124\n",
      "5     32\n",
      "6     12\n",
      "7      8\n",
      "Name: count, dtype: int64\n",
      "\n",
      "Average length per class:\n",
      "Label\n",
      "1    361.746858\n",
      "2    488.096774\n",
      "3    373.397561\n",
      "4    472.390977\n",
      "5    203.250000\n",
      "6    480.333333\n",
      "7    432.500000\n",
      "8    360.477778\n",
      "Name: Length, dtype: float64\n",
      "\n",
      "Max length per class:\n",
      "Label\n",
      "1    2832\n",
      "2    2249\n",
      "3    1486\n",
      "4    1849\n",
      "5     357\n",
      "6     685\n",
      "7    1486\n",
      "8    1015\n",
      "Name: Length, dtype: int64\n",
      "\n",
      "Min length per class:\n",
      "Label\n",
      "1     50\n",
      "2     55\n",
      "3     67\n",
      "4     58\n",
      "5     70\n",
      "6    249\n",
      "7    167\n",
      "8     82\n",
      "Name: Length, dtype: int64\n",
      "\n",
      "--- Gram-positive ---\n",
      "Number of proteins: 523\n",
      "Number of labels: 4\n",
      "\n",
      "Proteins per class:\n",
      "Label\n",
      "3    208\n",
      "1    174\n",
      "4    123\n",
      "2     18\n",
      "Name: count, dtype: int64\n",
      "\n",
      "Average length per class:\n",
      "Label\n",
      "1    434.178161\n",
      "2    759.222222\n",
      "3    393.802885\n",
      "4    410.186992\n",
      "Name: Length, dtype: float64\n",
      "\n",
      "Max length per class:\n",
      "Label\n",
      "1    2334\n",
      "2    2313\n",
      "3    1437\n",
      "4    1628\n",
      "Name: Length, dtype: int64\n",
      "\n",
      "Min length per class:\n",
      "Label\n",
      "1     87\n",
      "2    135\n",
      "3     67\n",
      "4     55\n",
      "Name: Length, dtype: int64\n"
     ]
    }
   ],
   "source": [
    "summarize(n_data, 'Gram-negative')\n",
    "summarize(g_data, 'Gram-positive')"
   ]
  }
 ],
 "metadata": {
  "kernelspec": {
   "display_name": "Python 3",
   "language": "python",
   "name": "python3"
  },
  "language_info": {
   "codemirror_mode": {
    "name": "ipython",
    "version": 3
   },
   "file_extension": ".py",
   "mimetype": "text/x-python",
   "name": "python",
   "nbconvert_exporter": "python",
   "pygments_lexer": "ipython3",
   "version": "3.12.1"
  }
 },
 "nbformat": 4,
 "nbformat_minor": 5
}
